{
 "cells": [
  {
   "cell_type": "code",
   "execution_count": 9,
   "id": "ef98c768",
   "metadata": {},
   "outputs": [],
   "source": [
    "import pandas as pd\n",
    "import numpy as np\n",
    "from scipy import stats\n",
    "import matplotlib.pyplot as plt\n",
    "import seaborn as sns"
   ]
  },
  {
   "cell_type": "markdown",
   "id": "a74fe705",
   "metadata": {},
   "source": [
    "### Q1)\n",
    "  "
   ]
  },
  {
   "cell_type": "code",
   "execution_count": 15,
   "id": "0a895fc6",
   "metadata": {},
   "outputs": [],
   "source": [
    "df = pd.Series([24.23,\n",
    "25.53,\n",
    "25.41,\n",
    "24.14,\n",
    "29.62,\n",
    "28.25,\n",
    "25.81,\n",
    "24.39,\n",
    "40.26,\n",
    "32.95,\n",
    "91.36,\n",
    "25.99,\n",
    "39.42,\n",
    "26.71,\n",
    "35.00,\n",
    "])"
   ]
  },
  {
   "cell_type": "code",
   "execution_count": 4,
   "id": "4a8baa1d",
   "metadata": {},
   "outputs": [
    {
     "data": {
      "text/plain": [
       "0     24.23\n",
       "1     25.53\n",
       "2     25.41\n",
       "3     24.14\n",
       "4     29.62\n",
       "5     28.25\n",
       "6     25.81\n",
       "7     24.39\n",
       "8     40.26\n",
       "9     32.95\n",
       "10    91.36\n",
       "11    25.99\n",
       "12    39.42\n",
       "13    26.71\n",
       "14    35.00\n",
       "dtype: float64"
      ]
     },
     "execution_count": 4,
     "metadata": {},
     "output_type": "execute_result"
    }
   ],
   "source": [
    "df"
   ]
  },
  {
   "cell_type": "code",
   "execution_count": 6,
   "id": "13df7cf1",
   "metadata": {},
   "outputs": [
    {
     "data": {
      "text/plain": [
       "33.27133333333333"
      ]
     },
     "execution_count": 6,
     "metadata": {},
     "output_type": "execute_result"
    }
   ],
   "source": [
    "df.mean()"
   ]
  },
  {
   "cell_type": "code",
   "execution_count": 7,
   "id": "0d12de2a",
   "metadata": {},
   "outputs": [
    {
     "data": {
      "text/plain": [
       "16.945400921222028"
      ]
     },
     "execution_count": 7,
     "metadata": {},
     "output_type": "execute_result"
    }
   ],
   "source": [
    "df.std()"
   ]
  },
  {
   "cell_type": "code",
   "execution_count": 8,
   "id": "5ef7942a",
   "metadata": {},
   "outputs": [
    {
     "data": {
      "text/plain": [
       "287.1466123809524"
      ]
     },
     "execution_count": 8,
     "metadata": {},
     "output_type": "execute_result"
    }
   ],
   "source": [
    "df.var()"
   ]
  },
  {
   "cell_type": "code",
   "execution_count": 12,
   "id": "95ac2dbc",
   "metadata": {},
   "outputs": [
    {
     "data": {
      "text/plain": [
       "{'whiskers': [<matplotlib.lines.Line2D at 0x1f47d8de160>,\n",
       "  <matplotlib.lines.Line2D at 0x1f47d8de430>],\n",
       " 'caps': [<matplotlib.lines.Line2D at 0x1f47d8de700>,\n",
       "  <matplotlib.lines.Line2D at 0x1f47d8de9d0>],\n",
       " 'boxes': [<matplotlib.lines.Line2D at 0x1f47d8cee50>],\n",
       " 'medians': [<matplotlib.lines.Line2D at 0x1f47d8deca0>],\n",
       " 'fliers': [<matplotlib.lines.Line2D at 0x1f47d8def70>],\n",
       " 'means': []}"
      ]
     },
     "execution_count": 12,
     "metadata": {},
     "output_type": "execute_result"
    },
    {
     "data": {
      "image/png": "[encoded data removed]",
      "text/plain": [
       "<Figure size 432x288 with 1 Axes>"
      ]
     },
     "metadata": {
      "needs_background": "light"
     },
     "output_type": "display_data"
    }
   ],
   "source": [
    "plt.boxplot(df, vert = False)"
   ]
  },
  {
   "cell_type": "markdown",
   "id": "1d6ba941",
   "metadata": {},
   "source": [
    "Inference = One Outlier is present in this dataset."
   ]
  },
  {
   "cell_type": "markdown",
   "id": "cea8bba4",
   "metadata": {},
   "source": [
    "#### Q4)"
   ]
  },
  {
   "cell_type": "code",
   "execution_count": 17,
   "id": "b97e4034",
   "metadata": {},
   "outputs": [
    {
     "data": {
      "text/plain": [
       "800.0"
      ]
     },
     "execution_count": 17,
     "metadata": {},
     "output_type": "execute_result"
    }
   ],
   "source": [
    "Expected_Value= 0.1*(-2000)+0.1*(-1000)+0.2*(0)+0.2*(1000)+0.3*(2000)+0.1*(3000)\n",
    "Expected_Value"
   ]
  },
  {
   "cell_type": "code",
   "execution_count": null,
   "id": "adc8c4a3",
   "metadata": {},
   "outputs": [],
   "source": []
  }
 ],
 "metadata": {
  "kernelspec": {
   "display_name": "Python 3 (ipykernel)",
   "language": "python",
   "name": "python3"
  },
  "language_info": {
   "codemirror_mode": {
    "name": "ipython",
    "version": 3
   },
   "file_extension": ".py",
   "mimetype": "text/x-python",
   "name": "python",
   "nbconvert_exporter": "python",
   "pygments_lexer": "ipython3",
   "version": "3.9.12"
  }
 },
 "nbformat": 4,
 "nbformat_minor": 5
}
